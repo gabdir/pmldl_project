{
  "nbformat": 4,
  "nbformat_minor": 0,
  "metadata": {
    "colab": {
      "name": "model_training.ipynb",
      "provenance": [],
      "collapsed_sections": [],
      "toc_visible": true
    },
    "kernelspec": {
      "name": "python3",
      "display_name": "Python 3"
    }
  },
  "cells": [
    {
      "cell_type": "markdown",
      "metadata": {
        "id": "XEhJgKQmH2re"
      },
      "source": [
        "# Train-test splitting, preparing folders"
      ]
    },
    {
      "cell_type": "code",
      "metadata": {
        "colab": {
          "base_uri": "https://localhost:8080/"
        },
        "id": "sOB10uYjBVkK",
        "outputId": "099c83ee-af01-4a47-e585-13d831d84786"
      },
      "source": [
        "import os\n",
        "import shutil\n",
        "import random\n",
        "from pathlib import Path\n",
        "from PIL import Image\n",
        "\n",
        "\n",
        "TEST_SIZE = 0.3\n",
        "DATASET = Path('dataset')\n",
        "LIKED = DATASET / 'liked'\n",
        "DISLIKED = DATASET / 'disliked'\n",
        "TRAIN_FOLDER = Path('train')\n",
        "TEST_FOLDER = Path('test')\n",
        "\n",
        "\n",
        "def create_folder(folder, liked, disliked):\n",
        "    if os.path.exists(folder):\n",
        "        shutil.rmtree(folder)\n",
        "\n",
        "    liked_subfolder = folder / 'liked'\n",
        "    disliked_subfolder = folder / 'disliked'\n",
        "\n",
        "    liked_subfolder.mkdir(parents=True, exist_ok=True)\n",
        "    disliked_subfolder.mkdir(parents=True, exist_ok=True)\n",
        "\n",
        "    for filename in liked:\n",
        "        path_to_image = str(LIKED / filename)\n",
        "        img = Image.open(path_to_image).convert('RGB')\n",
        "        filename, _ = os.path.splitext(filename)\n",
        "        img.save(liked_subfolder / f'{filename}.jpg', 'jpeg')\n",
        "\n",
        "    for filename in disliked:\n",
        "        path_to_image = str(DISLIKED / filename)\n",
        "        img = Image.open(path_to_image).convert('RGB')\n",
        "        filename, _ = os.path.splitext(filename)\n",
        "        img.save(disliked_subfolder / f'{filename}.jpg', 'jpeg')\n",
        "\n",
        "\n",
        "random.seed(42)\n",
        "\n",
        "liked_imgs = os.listdir(LIKED)\n",
        "disliked_imgs = os.listdir(DISLIKED)\n",
        "random.shuffle(liked_imgs)\n",
        "random.shuffle(disliked_imgs)\n",
        "\n",
        "print(f'Liked: {len(liked_imgs)} images')\n",
        "print(f'Disliked: {len(disliked_imgs)} images')\n",
        "\n",
        "test_liked = liked_imgs[:int(TEST_SIZE * len(liked_imgs))]\n",
        "test_disliked = disliked_imgs[:int(TEST_SIZE * len(disliked_imgs))]\n",
        "\n",
        "train_liked = liked_imgs[len(test_liked):]\n",
        "train_disliked = disliked_imgs[len(test_disliked):]\n",
        "\n",
        "print('\\nAfter splitting:')\n",
        "print(f'- Test liked: {len(test_liked)} Test disliked: {len(test_disliked)}')\n",
        "print(f'- Train liked: {len(train_liked)} Train disliked: {len(train_disliked)}')\n",
        "\n",
        "assert (len(test_liked) + len(train_liked)) == len(liked_imgs)\n",
        "assert (len(test_disliked) + len(train_disliked)) == len(disliked_imgs)\n",
        "\n",
        "create_folder(TRAIN_FOLDER, train_liked, train_disliked)\n",
        "create_folder(TEST_FOLDER, test_liked, test_disliked)"
      ],
      "execution_count": null,
      "outputs": [
        {
          "output_type": "stream",
          "text": [
            "Liked: 1917 images\n",
            "Disliked: 1497 images\n",
            "\n",
            "After splitting:\n",
            "- Test liked: 575 Test disliked: 449\n",
            "- Train liked: 1342 Train disliked: 1048\n"
          ],
          "name": "stdout"
        },
        {
          "output_type": "stream",
          "text": [
            "/usr/local/lib/python3.7/dist-packages/PIL/Image.py:932: UserWarning: Palette images with Transparency expressed in bytes should be converted to RGBA images\n",
            "  \"Palette images with Transparency expressed in bytes should be \"\n"
          ],
          "name": "stderr"
        }
      ]
    },
    {
      "cell_type": "markdown",
      "metadata": {
        "id": "DG1yaEqfZhPo"
      },
      "source": [
        "# Model and datagenerators creation"
      ]
    },
    {
      "cell_type": "code",
      "metadata": {
        "id": "pIj2V-yQZghH"
      },
      "source": [
        "from tensorflow.keras import layers\n",
        "from tensorflow.keras import models\n",
        "from tensorflow.keras.applications import VGG19\n",
        "\n",
        "from utils import plot\n",
        "\n",
        "\n",
        "def build_model(use_dropout, verbose=True):\n",
        "    \"\"\"\n",
        "    The part responsible for feature exctraction is VGG19\n",
        "    \"\"\"\n",
        "\n",
        "    feature_extractor = VGG19(\n",
        "        weights=\"imagenet\",\n",
        "        include_top=False,\n",
        "        input_shape=(224, 224, 3)\n",
        "    )\n",
        "\n",
        "    model = models.Sequential()\n",
        "    model.add(feature_extractor)\n",
        "    model.add(layers.Flatten())\n",
        "    model.add(layers.Dense(256, activation=\"relu\"))\n",
        "    if use_dropout:\n",
        "        model.add(layers.Dropout(0.5))\n",
        "    model.add(layers.Dense(1, activation=\"sigmoid\"))\n",
        "\n",
        "    if verbose:\n",
        "        model.summary()\n",
        "\n",
        "    return model"
      ],
      "execution_count": null,
      "outputs": []
    },
    {
      "cell_type": "code",
      "metadata": {
        "id": "ODCkBzyQdv2j"
      },
      "source": [
        "from tensorflow.keras import optimizers\n",
        "from tensorflow.keras.preprocessing.image import ImageDataGenerator, load_img\n",
        "\n",
        "\n",
        "def get_train_test_generators(train_dir, test_dir, batch_size):\n",
        "    \"\"\"\n",
        "    Returns keras datagenerators\n",
        "    \"\"\"\n",
        "\n",
        "    train_datagen = ImageDataGenerator(\n",
        "        rescale=1./255,\n",
        "        horizontal_flip=True,\n",
        "        rotation_range=10,\n",
        "        fill_mode=\"nearest\"\n",
        "    )\n",
        "\n",
        "    test_datagen = ImageDataGenerator(\n",
        "        rescale=1./255\n",
        "    )\n",
        "\n",
        "    train_generator = train_datagen.flow_from_directory(\n",
        "        train_dir,\n",
        "        target_size=(224, 224),\n",
        "        batch_size=batch_size,\n",
        "        class_mode=\"binary\"\n",
        "    )\n",
        "\n",
        "    test_generator = test_datagen.flow_from_directory(\n",
        "        test_dir,\n",
        "        target_size=(224, 224),\n",
        "        batch_size=batch_size,\n",
        "        class_mode=\"binary\"\n",
        "    )\n",
        "\n",
        "    return train_generator, test_generator\n",
        "\n",
        "\n",
        "def fit_head(model, train_generator, test_generator,\n",
        "             steps_per_epoch, validation_step, epochs):\n",
        "    \"\"\"\n",
        "    Fitting classifier part\n",
        "    \"\"\"\n",
        "\n",
        "    model.get_layer('vgg19').trainable = False\n",
        "\n",
        "    model.compile(optimizer=optimizers.RMSprop(lr=2e-5),\n",
        "                  loss='binary_crossentropy',\n",
        "                  metrics=['accuracy'])\n",
        "    \n",
        "    history = model.fit(\n",
        "        x=train_generator,\n",
        "        steps_per_epoch=steps_per_epoch,\n",
        "        epochs=epochs,\n",
        "        validation_data=test_generator,\n",
        "        validation_steps=validation_step\n",
        "    )\n",
        "\n",
        "    return history\n",
        "\n",
        "\n",
        "def finetune(model, train_generator, test_generator,\n",
        "             steps_per_epoch, validation_step, epochs):\n",
        "    \"\"\"\n",
        "    Finetune layers in fifth block\n",
        "    \"\"\"\n",
        "\n",
        "    vgg19 = model.get_layer('vgg19')\n",
        "    vgg19.trainable = True\n",
        "    set_trainable = False\n",
        "\n",
        "    for layer in vgg19.layers:\n",
        "        if layer.name == 'block5_conv1':\n",
        "            set_trainable = True\n",
        "        if set_trainable:\n",
        "            layer.trainable = True\n",
        "        else:\n",
        "            layer.trainable = False\n",
        "\n",
        "    model.compile(\n",
        "        optimizer=optimizers.RMSprop(lr=1e-5),\n",
        "        loss='binary_crossentropy',\n",
        "        metrics=['accuracy']\n",
        "    )\n",
        "    \n",
        "    history = model.fit(\n",
        "        x=train_generator,\n",
        "        steps_per_epoch=steps_per_epoch,\n",
        "        epochs=epochs,\n",
        "        validation_data=test_generator,\n",
        "        validation_steps=validation_step\n",
        "    )\n",
        "\n",
        "    return history"
      ],
      "execution_count": null,
      "outputs": []
    },
    {
      "cell_type": "markdown",
      "metadata": {
        "id": "RsWU1TzHlBoz"
      },
      "source": [
        "# Check performance of the finetuned model"
      ]
    },
    {
      "cell_type": "code",
      "metadata": {
        "colab": {
          "base_uri": "https://localhost:8080/"
        },
        "id": "hcDlCRWGlHnO",
        "outputId": "1783001e-fe69-44f4-a82d-4932091a142b"
      },
      "source": [
        "model = build_model(use_dropout=False, verbose=False)\n",
        "\n",
        "batch_size = 64\n",
        "train_size = len(os.listdir(TRAIN_FOLDER / 'liked')) + len(os.listdir(TRAIN_FOLDER / 'disliked'))\n",
        "test_size = len(os.listdir(TEST_FOLDER / 'liked')) + len(os.listdir(TEST_FOLDER / 'disliked'))\n",
        "\n",
        "train_generator, test_generator = get_train_test_generators(\n",
        "    train_dir=TRAIN_FOLDER,\n",
        "    test_dir=TEST_FOLDER,\n",
        "    batch_size=batch_size\n",
        ")\n",
        "\n",
        "history_1 = fit_head(\n",
        "    model=model,\n",
        "    train_generator=train_generator,\n",
        "    test_generator=test_generator,\n",
        "    steps_per_epoch=train_size // batch_size,\n",
        "    validation_step=test_size // 512,\n",
        "    epochs=3\n",
        ")\n",
        "\n",
        "history_2 = finetune(\n",
        "    model=model,\n",
        "    train_generator=train_generator,\n",
        "    test_generator=test_generator,\n",
        "    steps_per_epoch=train_size // batch_size,\n",
        "    validation_step=test_size // 512,\n",
        "    epochs=10\n",
        ")"
      ],
      "execution_count": null,
      "outputs": [
        {
          "output_type": "stream",
          "text": [
            "Found 2390 images belonging to 2 classes.\n",
            "Found 1024 images belonging to 2 classes.\n",
            "Epoch 1/3\n",
            "37/37 [==============================] - 37s 967ms/step - loss: 0.7373 - accuracy: 0.5213 - val_loss: 0.6957 - val_accuracy: 0.5156\n",
            "Epoch 2/3\n",
            "37/37 [==============================] - 36s 960ms/step - loss: 0.6720 - accuracy: 0.5753 - val_loss: 0.6525 - val_accuracy: 0.5625\n",
            "Epoch 3/3\n",
            "37/37 [==============================] - 36s 955ms/step - loss: 0.6431 - accuracy: 0.6357 - val_loss: 0.6702 - val_accuracy: 0.5391\n",
            "Epoch 1/10\n",
            "37/37 [==============================] - 38s 992ms/step - loss: 0.6348 - accuracy: 0.6531 - val_loss: 0.6203 - val_accuracy: 0.6875\n",
            "Epoch 2/10\n",
            "37/37 [==============================] - 36s 977ms/step - loss: 0.5897 - accuracy: 0.6853 - val_loss: 0.6993 - val_accuracy: 0.5859\n",
            "Epoch 3/10\n",
            "37/37 [==============================] - 37s 984ms/step - loss: 0.5724 - accuracy: 0.7110 - val_loss: 0.6578 - val_accuracy: 0.6484\n",
            "Epoch 4/10\n",
            "37/37 [==============================] - 36s 977ms/step - loss: 0.5403 - accuracy: 0.7436 - val_loss: 0.6683 - val_accuracy: 0.6484\n",
            "Epoch 5/10\n",
            "37/37 [==============================] - 36s 979ms/step - loss: 0.5180 - accuracy: 0.7609 - val_loss: 0.6788 - val_accuracy: 0.6016\n",
            "Epoch 6/10\n",
            "37/37 [==============================] - 36s 980ms/step - loss: 0.4955 - accuracy: 0.7890 - val_loss: 0.7213 - val_accuracy: 0.5859\n",
            "Epoch 7/10\n",
            "37/37 [==============================] - 37s 980ms/step - loss: 0.4864 - accuracy: 0.7678 - val_loss: 0.7560 - val_accuracy: 0.6328\n",
            "Epoch 8/10\n",
            "37/37 [==============================] - 36s 971ms/step - loss: 0.4559 - accuracy: 0.8027 - val_loss: 0.6544 - val_accuracy: 0.6562\n",
            "Epoch 9/10\n",
            "37/37 [==============================] - 36s 976ms/step - loss: 0.4155 - accuracy: 0.8299 - val_loss: 0.7268 - val_accuracy: 0.5781\n",
            "Epoch 10/10\n",
            "37/37 [==============================] - 36s 976ms/step - loss: 0.4031 - accuracy: 0.8239 - val_loss: 0.7941 - val_accuracy: 0.5391\n"
          ],
          "name": "stdout"
        }
      ]
    },
    {
      "cell_type": "code",
      "metadata": {
        "colab": {
          "base_uri": "https://localhost:8080/",
          "height": 573
        },
        "id": "sSzPIj0xCyBg",
        "outputId": "654b1f20-64a2-4d1e-c7c0-a539beb2b4bb"
      },
      "source": [
        "from utils import plot\n",
        "\n",
        "\n",
        "plot(history_2)"
      ],
      "execution_count": null,
      "outputs": [
        {
          "output_type": "display_data",
          "data": {
            "image/png": "[encoded data removed]",
            "text/plain": [
              "<Figure size 432x288 with 1 Axes>"
            ]
          },
          "metadata": {
            "tags": [],
            "needs_background": "light"
          }
        },
        {
          "output_type": "display_data",
          "data": {
            "image/png": "[encoded data removed]",
            "text/plain": [
              "<Figure size 432x288 with 1 Axes>"
            ]
          },
          "metadata": {
            "tags": [],
            "needs_background": "light"
          }
        }
      ]
    },
    {
      "cell_type": "markdown",
      "metadata": {
        "id": "znMSL26F7HvO"
      },
      "source": [
        "# Training on the whole dataset"
      ]
    },
    {
      "cell_type": "code",
      "metadata": {
        "id": "hUiwp82dB1h6"
      },
      "source": [
        "def copy(dir):\n",
        "    for folder in ['liked', 'disliked']:\n",
        "        for filename in os.listdir(dir / folder):\n",
        "            shutil.copyfile(\n",
        "                dir / folder / filename,\n",
        "                WHOLE_DATASET / folder / filename\n",
        "            )\n",
        "\n",
        "\n",
        "WHOLE_DATASET = Path('data')\n",
        "data_liked = WHOLE_DATASET / 'liked'\n",
        "data_disliked = WHOLE_DATASET / 'disliked'\n",
        "\n",
        "if os.path.exists(WHOLE_DATASET):\n",
        "    shutil.rmtree(WHOLE_DATASET)\n",
        "\n",
        "data_liked.mkdir(parents=True, exist_ok=True)\n",
        "data_disliked.mkdir(parents=True, exist_ok=True)\n",
        "\n",
        "copy(TRAIN_FOLDER)\n",
        "copy(TEST_FOLDER)"
      ],
      "execution_count": null,
      "outputs": []
    },
    {
      "cell_type": "code",
      "metadata": {
        "id": "FUR4MiQj7KlI"
      },
      "source": [
        "def train_on_whole_dataset(dir, batch_size, epochs, dataset_size,\n",
        "                           use_dropout=True, model_name='model.h5'):\n",
        "    \"\"\"\n",
        "    Training of final model using whole dataset\n",
        "    \"\"\"\n",
        "\n",
        "    train_datagen = ImageDataGenerator(\n",
        "        rescale=1./255,\n",
        "    )\n",
        "\n",
        "    train_generator = train_datagen.flow_from_directory(\n",
        "        dir,\n",
        "        target_size=(224, 224),\n",
        "        batch_size=batch_size,\n",
        "        class_mode=\"binary\"\n",
        "    )\n",
        "\n",
        "    model = build_model(use_dropout=use_dropout, verbose=False)\n",
        "\n",
        "    # fit head\n",
        "    model.get_layer(\"vgg19\").trainable = False\n",
        "    model.compile(\n",
        "        optimizer=optimizers.RMSprop(lr=2e-5),\n",
        "        loss=\"binary_crossentropy\",\n",
        "        metrics=['accuracy']\n",
        "    )\n",
        "    h1 = model.fit(\n",
        "        x=train_generator,\n",
        "        steps_per_epoch=dataset_size // batch_size,\n",
        "        epochs=3\n",
        "    )\n",
        "\n",
        "    # finetune\n",
        "    vgg19 = model.get_layer(\"vgg19\")\n",
        "    vgg19.trainable = True\n",
        "    set_trainable = False\n",
        "    for layer in vgg19.layers:\n",
        "        if layer.name == \"block5_conv1\":\n",
        "            set_trainable = True\n",
        "        if set_trainable:\n",
        "            layer.trainable = True\n",
        "        else:\n",
        "            layer.trainable = False\n",
        "    model.compile(\n",
        "        optimizer=optimizers.RMSprop(lr=1e-5),\n",
        "        loss=\"binary_crossentropy\",\n",
        "        metrics=['accuracy']\n",
        "    )\n",
        "    h2 = model.fit(\n",
        "        x=train_generator,\n",
        "        steps_per_epoch=dataset_size // batch_size,\n",
        "        epochs=epochs\n",
        "    )\n",
        "\n",
        "    # save model\n",
        "    model.save(model_name)\n",
        "    print(f\"Model saved in '{model_name}'\")"
      ],
      "execution_count": null,
      "outputs": []
    },
    {
      "cell_type": "code",
      "metadata": {
        "colab": {
          "base_uri": "https://localhost:8080/"
        },
        "id": "CWbdzdl3AKGq",
        "outputId": "8e64e987-4d5c-4054-b0e4-386c9eb767fa"
      },
      "source": [
        "train_on_whole_dataset(\n",
        "    dir=WHOLE_DATASET,\n",
        "    batch_size=64,\n",
        "    epochs=8,\n",
        "    dataset_size=len(os.listdir(data_liked)) + len(os.listdir(data_disliked)),\n",
        "    use_dropout=False\n",
        ")"
      ],
      "execution_count": null,
      "outputs": [
        {
          "output_type": "stream",
          "text": [
            "Found 3414 images belonging to 2 classes.\n",
            "Epoch 1/3\n",
            "53/53 [==============================] - 19s 349ms/step - loss: 0.7009 - accuracy: 0.5647\n",
            "Epoch 2/3\n",
            "53/53 [==============================] - 19s 350ms/step - loss: 0.6531 - accuracy: 0.6168\n",
            "Epoch 3/3\n",
            "53/53 [==============================] - 19s 352ms/step - loss: 0.6268 - accuracy: 0.6416\n",
            "Epoch 1/8\n",
            "53/53 [==============================] - 22s 386ms/step - loss: 0.5958 - accuracy: 0.6941\n",
            "Epoch 2/8\n",
            "53/53 [==============================] - 21s 391ms/step - loss: 0.5164 - accuracy: 0.7649\n",
            "Epoch 3/8\n",
            "53/53 [==============================] - 21s 387ms/step - loss: 0.4577 - accuracy: 0.8079\n",
            "Epoch 4/8\n",
            "53/53 [==============================] - 21s 384ms/step - loss: 0.3891 - accuracy: 0.8591\n",
            "Epoch 5/8\n",
            "53/53 [==============================] - 21s 386ms/step - loss: 0.3470 - accuracy: 0.8741\n",
            "Epoch 6/8\n",
            "53/53 [==============================] - 21s 389ms/step - loss: 0.2949 - accuracy: 0.9062\n",
            "Epoch 7/8\n",
            "53/53 [==============================] - 21s 390ms/step - loss: 0.2537 - accuracy: 0.9269\n",
            "Epoch 8/8\n",
            "53/53 [==============================] - 21s 388ms/step - loss: 0.2195 - accuracy: 0.9435\n",
            "Model saved in 'model.h5'\n"
          ],
          "name": "stdout"
        }
      ]
    },
    {
      "cell_type": "markdown",
      "metadata": {
        "id": "C1SA4xMpQ287"
      },
      "source": [
        "# Some tries with model"
      ]
    },
    {
      "cell_type": "code",
      "metadata": {
        "colab": {
          "base_uri": "https://localhost:8080/"
        },
        "id": "T-tquXXRMsH8",
        "outputId": "8405df52-a5df-49a9-8485-83f821d9b0bf"
      },
      "source": [
        "import cv2\n",
        "import numpy as np\n",
        "from skimage import io\n",
        "from tensorflow.keras.models import load_model\n",
        "\n",
        "\n",
        "class Model:\n",
        "    IMG_SIZE = 224\n",
        "\n",
        "    def __init__(self, model_path):\n",
        "        self.model = load_model(model_path)\n",
        "\n",
        "    @staticmethod\n",
        "    def process_external_image(image_url):\n",
        "        img = io.imread(image_url, plugin='matplotlib')\n",
        "        dim = (Model.IMG_SIZE, Model.IMG_SIZE)\n",
        "        resized_img = cv2.resize(img, dim, interpolation=cv2.INTER_LINEAR)\n",
        "        image = np.expand_dims(resized_img, axis=0)\n",
        "        return image\n",
        "\n",
        "    def predict(self, img_url):\n",
        "        image = self.process_external_image(img_url)\n",
        "        prediction = self.model.predict(image)\n",
        "        return round(prediction[0][0])\n",
        "\n",
        "\n",
        "url = 'https://images-ssl.gotinder.com/60237e6afab4900100b06186/640x800_75_d27ebee7-6447-4199-ae84-2e369fbe2f77.webp'\n",
        "\n",
        "model = Model('model.h5')\n",
        "print(model.predict(url))"
      ],
      "execution_count": 11,
      "outputs": [
        {
          "output_type": "stream",
          "text": [
            "1\n"
          ],
          "name": "stdout"
        }
      ]
    }
  ]
}